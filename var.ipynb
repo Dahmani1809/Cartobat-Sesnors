{
 "cells": [
  {
   "cell_type": "code",
   "execution_count": null,
   "metadata": {},
   "outputs": [],
   "source": []
  }
 ],
 "metadata": {
  "kernelspec": {
   "display_name": "Python 3.9.13 ('myenv')",
   "language": "python",
   "name": "python3"
  },
  "language_info": {
   "name": "python",
   "version": "3.9.13"
  },
  "orig_nbformat": 4,
  "vscode": {
   "interpreter": {
    "hash": "f77a1b582aa5e29c787a03f1ef9b8c2a7bbf62923f5e9d7eb6fa0f4778eca15b"
   }
  }
 },
 "nbformat": 4,
 "nbformat_minor": 2
}
