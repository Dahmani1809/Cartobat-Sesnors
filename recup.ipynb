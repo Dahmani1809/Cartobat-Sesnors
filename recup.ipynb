{
 "cells": [
  {
   "cell_type": "code",
   "execution_count": 4,
   "metadata": {},
   "outputs": [],
   "source": [
    "import requests\n",
    "import json\n",
    "import pandas as pd\n",
    "import csv\n",
    "import numpy as np\n",
    "import matplotlib.pyplot as plt"
   ]
  },
  {
   "cell_type": "code",
   "execution_count": 15,
   "metadata": {},
   "outputs": [
    {
     "name": "stdout",
     "output_type": "stream",
     "text": [
      "<Response [200]>\n"
     ]
    }
   ],
   "source": [
    "url = \"https://cartobat.com/434152544F42415450616C616973656175/getRawDataForCartoWear/C77C2F92664E/2022-11-18%2008:00:00.000/2022-11-18%2012:00:00.000\"\n",
    "\n",
    "reponse = requests.get(url)\n",
    "print(reponse)\n",
    "contenu = reponse.json()\n",
    "\n",
    "jsonString = json.dumps(contenu)\n",
    "jsonFile = open(\"data.json\", \"w\")\n",
    "jsonFile.write(jsonString)\n",
    "jsonFile.close()"
   ]
  },
  {
   "cell_type": "code",
   "execution_count": 16,
   "metadata": {},
   "outputs": [],
   "source": [
    "df = pd.read_json (r'data.json')\n",
    "df.to_csv (r'data.csv', index = None)"
   ]
  },
  {
   "cell_type": "code",
   "execution_count": 17,
   "metadata": {},
   "outputs": [
    {
     "name": "stdout",
     "output_type": "stream",
     "text": [
      "c'est mauvais, c'est tout faux, je vous prie d'abandonner\n"
     ]
    }
   ],
   "source": [
    "csv_header = [\"timestamp\", \"macModule\",  \"rssi\"]\n",
    "\n",
    "with open('data.csv', 'w') as file :\n",
    "    writer = csv.DictWriter(file, fieldnames=csv_header)\n",
    "    writer.writeheader()\n",
    "    writer.writerows(contenu[\"resultat\"])\n",
    "    print(\"c'est mauvais, c'est tout faux, je vous prie d'abandonner\")\n",
    "df=pd.read_csv(\"data.csv\",index_col=None)"
   ]
  },
  {
   "cell_type": "code",
   "execution_count": 23,
   "metadata": {},
   "outputs": [],
   "source": [
    "Modules_list=['A8032A311FAA', 'A8032A31204E', 'C45BBE37B346', 'C45BBE384CD2',\"C45BBE386362\",\"C45BBE386952\",\"C45BBE39870E\",\"C45BBE39F42A\",\"C45BBE39F56A\",\"C45BBE39F9AE\"]\n",
    "Metres_list=[60,61,62,63,64,65,66,67,68,69,70,71,72,73,74,75,76,77,78,79,80,81,82,83,84,85,86,87,88,89,90]"
   ]
  },
  {
   "cell_type": "code",
   "execution_count": 64,
   "metadata": {},
   "outputs": [],
   "source": [
    "import csv\n",
    "for i in range(10):\n",
    "    myfile = Modules_list[i] + '.csv'\n",
    "    with open(myfile,'w',newline='') as f:\n",
    "        ecrire=csv.writer(f)\n",
    "        ecrire.writerow([Modules_list[i]])\n",
    "        for mesure in contenu['resultat']:\n",
    "            if mesure['macModule'] == Modules_list[i]:\n",
    "                if '2022-11-18 09:39:00.453' < mesure['timestamp'] < '2022-11-18 09:44:00.552':\n",
    "                    ecrire.writerow([mesure['rssi']])"
   ]
  },
  {
   "cell_type": "code",
   "execution_count": 65,
   "metadata": {},
   "outputs": [],
   "source": [
    "dataFrame = pd.concat(map(pd.read_csv,[Modules_list[i]+'.csv' for i in range(10)]),axis=\"columns\", ignore_index=False)\n",
    "# dataFrame = dataFrame.fillna(0.0)\n",
    "dataFrame.to_csv(path_or_buf='90/csv_M_901.csv', decimal='.', sep= ',', index=False)"
   ]
  },
  {
   "cell_type": "code",
   "execution_count": null,
   "metadata": {},
   "outputs": [],
   "source": [
    "for i in Modules_list :\n",
    "    plt.plot(df3[\"Position (m)\"],df3[\"rssi\"],\"*\")\n",
    "    plt.title(\"capteur \"+d)\n",
    "    plt.show()"
   ]
  },
  {
   "cell_type": "code",
   "execution_count": null,
   "metadata": {},
   "outputs": [],
   "source": []
  }
 ],
 "metadata": {
  "kernelspec": {
   "display_name": "Python 3.9.13 ('myenv')",
   "language": "python",
   "name": "python3"
  },
  "language_info": {
   "codemirror_mode": {
    "name": "ipython",
    "version": 3
   },
   "file_extension": ".py",
   "mimetype": "text/x-python",
   "name": "python",
   "nbconvert_exporter": "python",
   "pygments_lexer": "ipython3",
   "version": "3.9.13"
  },
  "orig_nbformat": 4,
  "vscode": {
   "interpreter": {
    "hash": "f77a1b582aa5e29c787a03f1ef9b8c2a7bbf62923f5e9d7eb6fa0f4778eca15b"
   }
  }
 },
 "nbformat": 4,
 "nbformat_minor": 2
}
